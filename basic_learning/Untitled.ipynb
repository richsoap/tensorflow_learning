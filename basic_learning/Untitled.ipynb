{
 "cells": [
  {
   "cell_type": "markdown",
   "metadata": {},
   "source": [
    "# 将数据按行结构化"
   ]
  },
  {
   "cell_type": "code",
   "execution_count": 30,
   "metadata": {},
   "outputs": [
    {
     "name": "stdout",
     "output_type": "stream",
     "text": [
      "done\n"
     ]
    }
   ],
   "source": [
    "import os\n",
    "\n",
    "def read_file(file_path):\n",
    "    if not os.path.isfile(file_path):\n",
    "        raise TypeError(file_path + \" does not exist.\", 'r')\n",
    "    \n",
    "    input_text=open(file_path)\n",
    "    output_text_date=open(file_path + \"_date\",'w')\n",
    "    output_text_label=open(file_path + \"_lab\",'w')\n",
    "    output_text_data=open(file_path + \"_data\",'w')\n",
    "    for lines in input_text.readlines():\n",
    "        output_text_date.write(lines[0:10] + \"\\n\")\n",
    "        output_text_data.write(lines[12:18] + \"\\n\")\n",
    "        if lines[28] == '-':\n",
    "            output_text_label.write(\"[0,1]\\n\")\n",
    "        else:\n",
    "            output_text_label.write(\"[1,0]\\n\")\n",
    "    input_text.close()\n",
    "    output_text_date.close()\n",
    "    output_text_data.close()\n",
    "    output_text_label.close()\n",
    "\n",
    "if __name__ == \"__main__\":\n",
    "    read_file(\"data.txt\")\n",
    "    print \"done\"\n",
    "        "
   ]
  },
  {
   "cell_type": "code",
   "execution_count": null,
   "metadata": {},
   "outputs": [],
   "source": []
  }
 ],
 "metadata": {
  "kernelspec": {
   "display_name": "Python 2",
   "language": "python",
   "name": "python2"
  },
  "language_info": {
   "codemirror_mode": {
    "name": "ipython",
    "version": 2
   },
   "file_extension": ".py",
   "mimetype": "text/x-python",
   "name": "python",
   "nbconvert_exporter": "python",
   "pygments_lexer": "ipython2",
   "version": "2.7.12"
  }
 },
 "nbformat": 4,
 "nbformat_minor": 2
}
