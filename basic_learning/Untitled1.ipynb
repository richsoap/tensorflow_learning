{
 "cells": [
  {
   "cell_type": "markdown",
   "metadata": {},
   "source": [
    "# LSTM for Data Trance"
   ]
  },
  {
   "cell_type": "code",
   "execution_count": 10,
   "metadata": {},
   "outputs": [
    {
     "name": "stdout",
     "output_type": "stream",
     "text": [
      "                   data\n",
      "2017-12-31 1.394  [1,0]\n",
      "2017-12-29 1.394  [0,1]\n",
      "2017-12-28 1.396  [0,1]\n",
      "2017-12-27 1.401  [0,1]\n",
      "2017-12-26 1.397  [1,0]\n",
      "2017-12-25 1.410  [0,1]\n",
      "2017-12-22 1.413  [0,1]\n",
      "2017-12-21 1.412  [1,0]\n",
      "2017-12-20 1.405  [1,0]\n",
      "           1.406  [0,1]\n",
      "2017-12-18 1.408  [0,1]\n",
      "2017-12-15 1.370  [1,0]\n",
      "2017-12-14 1.365  [1,0]\n",
      "2017-12-13 1.378  [0,1]\n",
      "2017-12-12 1.354  [1,0]\n",
      "2017-12-11 1.379  [0,1]\n",
      "2017-12-08 1.350  [1,0]\n",
      "2017-12-07 1.343  [1,0]\n",
      "2017-12-06 1.329  [1,0]\n",
      "2017-12-05 1.334  [0,1]\n",
      "2017-12-04 1.340  [0,1]\n",
      "2017-12-01 1.351  [0,1]\n",
      "2017-11-30 1.372  [0,1]\n",
      "2017-11-29 1.383  [0,1]\n",
      "2017-11-28 1.420  [0,1]\n",
      "2017-11-27 1.430  [0,1]\n",
      "2017-11-24 1.456  [0,1]\n",
      "2017-11-23 1.469  [0,1]\n",
      "2017-11-22 1.480  [0,1]\n",
      "2017-11-21 1.477  [1,0]\n",
      "2017-11-20 1.464  [1,0]\n",
      "2017-11-17 1.455  [1,0]\n",
      "2017-11-16 1.445  [1,0]\n",
      "2017-11-15 1.420  [1,0]\n",
      "2017-11-14 1.413  [1,0]\n",
      "2017-11-13 1.430  [0,1]\n",
      "2017-11-10 1.415  [1,0]\n",
      "2017-11-09 1.431  [0,1]\n",
      "2017-11-08 1.434  [0,1]\n",
      "2017-11-07 1.425  [1,0]\n",
      "2017-11-06 1.418  [1,0]\n",
      "2017-11-03 1.389  [1,0]\n",
      "2017-11-02 1.379  [1,0]\n",
      "2017-11-01 1.386  [0,1]\n",
      "2017-10-31 1.375  [1,0]\n",
      "2017-10-30 1.357  [1,0]\n",
      "2017-10-27 1.358  [0,1]\n",
      "2017-10-26 1.358  [1,0]\n",
      "2017-10-25 1.383  [0,1]\n",
      "2017-10-24 1.405  [0,1]\n"
     ]
    },
    {
     "ename": "SystemExit",
     "evalue": "",
     "output_type": "error",
     "traceback": [
      "An exception has occurred, use %tb to see the full traceback.\n",
      "\u001b[0;31mSystemExit\u001b[0m\n"
     ]
    }
   ],
   "source": [
    "import tensorflow as tf\n",
    "import numpy\n",
    "import pandas as pd\n",
    "import os\n",
    "from tensorflow.contrib import rnn\n",
    "\n",
    "config =tf.ConfigProto()\n",
    "config.gpu_options.allow_growth = True\n",
    "sess = tf.Session(config=config)\n",
    "\n",
    "lr = 1e-4\n",
    "batch_size = tf.placeholder(tf.int32)\n",
    "input_size = 1\n",
    "time_step_size = 120\n",
    "hidden_size = 1\n",
    "layer_num = 10\n",
    "class_num = 2\n",
    "\n",
    "_x = tf.placeholder(tf.float32, [None, 120])\n",
    "y = tf.placeholder(tf.float32, [None, class_num])\n",
    "keep_prob = tf.placeholder(tf.float32)\n",
    "\n",
    "def load_data():\n",
    "    train_path = \"train.csv\"\n",
    "    test_path = \"test.csv\"\n",
    "    train = pd.read_csv(train_path, names=[\"data\",\"label\"], header=0)\n",
    "    train_y = train.pop(\"label\")\n",
    "    train_x = train\n",
    "    \n",
    "    test = pd.read_csv(test_path, names=[\"data\", \"label\"], header=0)\n",
    "    test_x, test_y = test.pop(\"data\"), test.pop(\"label\")\n",
    "    \n",
    "    return (train_x, train_y), (test_x, test_y)\n",
    "\n",
    "def main(argv):\n",
    "    (train_x, train_y),(test_x, test_y) = load_data()\n",
    "    print train_x[0:50]\n",
    "    \n",
    "    \n",
    "if __name__ == '__main__':\n",
    "    tf.app.run(main)\n",
    "    print \"done\""
   ]
  },
  {
   "cell_type": "code",
   "execution_count": null,
   "metadata": {},
   "outputs": [],
   "source": []
  }
 ],
 "metadata": {
  "kernelspec": {
   "display_name": "Python 2",
   "language": "python",
   "name": "python2"
  },
  "language_info": {
   "codemirror_mode": {
    "name": "ipython",
    "version": 2
   },
   "file_extension": ".py",
   "mimetype": "text/x-python",
   "name": "python",
   "nbconvert_exporter": "python",
   "pygments_lexer": "ipython2",
   "version": "2.7.12"
  }
 },
 "nbformat": 4,
 "nbformat_minor": 2
}
